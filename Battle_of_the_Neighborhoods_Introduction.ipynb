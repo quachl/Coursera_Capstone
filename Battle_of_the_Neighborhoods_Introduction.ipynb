{
 "cells": [
  {
   "cell_type": "markdown",
   "metadata": {},
   "source": [
    "Capstone Project - The Battle of the Neighborhoods"
   ]
  },
  {
   "cell_type": "markdown",
   "metadata": {},
   "source": [
    "Introduction\n",
    "\n",
    "1) Background\n",
    "\n",
    "One of the most common businesses is that of a restaurant. There are many reasons why this is the case, chief among these is that it is an easy business to get into. The qualifications for opening a restaurant are low. As long as an individual could scrape together the necessary funds, he/she could open a new restaurants. This is one reason why so many immigrants open restaurants. For this project, I am assuming that the client is interested in finding a good Toronto neighborhood to open a Japanese restaurant in.\n",
    "\n",
    "2) Business Problem\n",
    "While it is not difficult to set up a restaurant, it is not easy to successfully run one. As any real estate agent will be quick to say, the three most important variables in having a successful venture is location, location, location. The client can serve fantastic Japanese food and provide unparalleled service but the restaurant may still fail if it is in a poor location. For instance, the client may face an uphill battle if the restaurant in a neighborhood with many similar restaurants. Armed with the knowledge that a good location is vital to the success of the client's venture, I will analyze Toronto's geographic data to find an ideal neighborhood for the hypothetical client's new Japanese restaurant."
   ]
  }
 ],
 "metadata": {
  "kernelspec": {
   "display_name": "Python",
   "language": "python",
   "name": "conda-env-python-py"
  },
  "language_info": {
   "codemirror_mode": {
    "name": "ipython",
    "version": 3
   },
   "file_extension": ".py",
   "mimetype": "text/x-python",
   "name": "python",
   "nbconvert_exporter": "python",
   "pygments_lexer": "ipython3",
   "version": "3.6.7"
  }
 },
 "nbformat": 4,
 "nbformat_minor": 4
}
